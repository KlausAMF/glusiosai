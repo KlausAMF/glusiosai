{
  "nbformat": 4,
  "nbformat_minor": 0,
  "metadata": {
    "colab": {
      "provenance": [],
      "authorship_tag": "ABX9TyO/3nvcXWgyEe1VNFUTg6am",
      "include_colab_link": true
    },
    "kernelspec": {
      "name": "python3",
      "display_name": "Python 3"
    },
    "language_info": {
      "name": "python"
    }
  },
  "cells": [
    {
      "cell_type": "markdown",
      "metadata": {
        "id": "view-in-github",
        "colab_type": "text"
      },
      "source": [
        "<a href=\"https://colab.research.google.com/github/KlausAMF/glusiosai/blob/main/Glusios_Assistente_Financeiro_Pessoal.ipynb\" target=\"_parent\"><img src=\"https://colab.research.google.com/assets/colab-badge.svg\" alt=\"Open In Colab\"/></a>"
      ]
    },
    {
      "cell_type": "markdown",
      "source": [
        "## 1. Instalando o SDK do Google"
      ],
      "metadata": {
        "id": "Zv7YOFxxGjrX"
      }
    },
    {
      "cell_type": "code",
      "source": [
        "!pip install -q -U google-generativeai"
      ],
      "metadata": {
        "id": "rVn3Eh7rGh-6"
      },
      "execution_count": 36,
      "outputs": []
    },
    {
      "cell_type": "markdown",
      "source": [
        "Configurações iniciais"
      ],
      "metadata": {
        "id": "ngv4uGz1HBs3"
      }
    },
    {
      "cell_type": "code",
      "source": [
        "import google.generativeai as genai\n",
        "from pathlib import Path\n",
        "import hashlib\n",
        "import csv\n",
        "from google.colab import userdata\n",
        "\n",
        "API_KEY = userdata.get('api_key')\n",
        "\n",
        "GOOGLE_API_KEY = API_KEY\n",
        "genai.configure(api_key=GOOGLE_API_KEY)"
      ],
      "metadata": {
        "id": "0mFDqlnrHBJs"
      },
      "execution_count": 37,
      "outputs": []
    },
    {
      "cell_type": "markdown",
      "source": [
        "## 2. Preparação do modelo"
      ],
      "metadata": {
        "id": "qGW_LhzOICcZ"
      }
    },
    {
      "cell_type": "code",
      "source": [
        "generation_config = {\n",
        "  \"temperature\": 1,\n",
        "  \"top_p\": 0.95,\n",
        "  \"top_k\": 0,\n",
        "  \"max_output_tokens\": 8192,\n",
        "}\n",
        "\n",
        "safety_settings = [\n",
        "  {\n",
        "    \"category\": \"HARM_CATEGORY_HARASSMENT\",\n",
        "    \"threshold\": \"BLOCK_LOW_AND_ABOVE\"\n",
        "  },\n",
        "  {\n",
        "    \"category\": \"HARM_CATEGORY_HATE_SPEECH\",\n",
        "    \"threshold\": \"BLOCK_LOW_AND_ABOVE\"\n",
        "  },\n",
        "  {\n",
        "    \"category\": \"HARM_CATEGORY_SEXUALLY_EXPLICIT\",\n",
        "    \"threshold\": \"BLOCK_LOW_AND_ABOVE\"\n",
        "  },\n",
        "  {\n",
        "    \"category\": \"HARM_CATEGORY_DANGEROUS_CONTENT\",\n",
        "    \"threshold\": \"BLOCK_LOW_AND_ABOVE\"\n",
        "  },\n",
        "]"
      ],
      "metadata": {
        "id": "rFkApji5IFQO"
      },
      "execution_count": 38,
      "outputs": []
    },
    {
      "cell_type": "code",
      "source": [
        "system_instruction = \"Você é um assistente de finanças pessoais, mais especificamente voltado para análise de despesas pessoais. Você conversa com pessoas leigas e que precisam da sua ajuda para otimizar seus gastos e saber como categorizá-los. Você faz cálculos precisos.\\n\\nSeu papel é tornar o planejamento financeiro pessoal fácil e divertido para pessoas de forma segura, prática e totalmente livre de \\\"tabus financeiros\\\".\\n\\nO usuário que te perguntar algo precisa entender bem o que você responde.\\n\\nSeu nome é Glusios. Refira-se a si próprio como \\\"o seu assistente de gastos pessoais\\\".\""
      ],
      "metadata": {
        "id": "34GEKfSfIuhH"
      },
      "execution_count": 39,
      "outputs": []
    },
    {
      "cell_type": "code",
      "source": [
        "model = genai.GenerativeModel(model_name=\"gemini-1.5-pro-latest\",\n",
        "                              generation_config=generation_config,\n",
        "                              system_instruction=system_instruction,\n",
        "                              safety_settings=safety_settings)"
      ],
      "metadata": {
        "id": "XlW7FiFgIUw6"
      },
      "execution_count": 40,
      "outputs": []
    },
    {
      "cell_type": "markdown",
      "source": [
        "## 3. Desenvolvimento do Glusios, seu assistente financeiro pessoal"
      ],
      "metadata": {
        "id": "ic9OIirAI9eC"
      }
    },
    {
      "cell_type": "code",
      "source": [
        "def extract_pdf_pages(pathname: str) -> list[str]:\n",
        "  parts = [f\"--- START OF PDF ${pathname} ---\"]\n",
        "  # Add logic to read the PDF and return a list of pages here.\n",
        "  pages = []\n",
        "  for index, page in enumerate(pages):\n",
        "    parts.append(f\"--- PAGE {index} ---\")\n",
        "    parts.append(page)\n",
        "  return parts\n",
        "\n",
        "extract_pdf_pages(\"/content/despesas .csv\")"
      ],
      "metadata": {
        "colab": {
          "base_uri": "https://localhost:8080/"
        },
        "id": "kARbZTOcIbWo",
        "outputId": "017ec10b-1ec7-453c-d68e-ce952158ea33"
      },
      "execution_count": 41,
      "outputs": [
        {
          "output_type": "execute_result",
          "data": {
            "text/plain": [
              "['--- START OF PDF $/content/despesas .csv ---']"
            ]
          },
          "metadata": {},
          "execution_count": 41
        }
      ]
    },
    {
      "cell_type": "code",
      "source": [
        "def extract_csv_data(pathname: str) -> list[str]:\n",
        "\n",
        "  parts = [f\"--- START OF CSV {pathname} ---\"]\n",
        "  data = []\n",
        "\n",
        "  # Open the CSV file in read mode\n",
        "  with open(pathname, 'r') as csvfile:\n",
        "    # Create a CSV reader object\n",
        "    reader = csv.reader(csvfile)\n",
        "\n",
        "    # Iterate through each row in the CSV file\n",
        "    for row in reader:\n",
        "      # Append each row as a string to the data list\n",
        "      data.append(','.join(row))\n",
        "\n",
        "  parts.extend(data)\n",
        "  parts.append(\"--- END OF CSV ---\")\n",
        "  return parts\n"
      ],
      "metadata": {
        "id": "emaog8wKKC1I"
      },
      "execution_count": 42,
      "outputs": []
    },
    {
      "cell_type": "code",
      "source": [
        "convo = model.start_chat(history=[\n",
        "  {\n",
        "    \"role\": \"user\",\n",
        "    \"parts\": extract_csv_data(\"/content/despesas .csv\")\n",
        "  }\n",
        "])"
      ],
      "metadata": {
        "id": "rScAlEb-LMHZ"
      },
      "execution_count": 43,
      "outputs": []
    },
    {
      "cell_type": "markdown",
      "source": [
        "## 4. Chat"
      ],
      "metadata": {
        "id": "92Vtr4X_O6s9"
      }
    },
    {
      "cell_type": "code",
      "source": [
        "print(\"Glusios: Olá! Sou o Glusios, o seu assistente de gastos pessoais. Que legal ter você por aqui! Vejo que você trouxe um registro bem detalhado das suas despesas. Isso é um ótimo começo para entendermos para onde seu dinheiro está indo. 😄 \\nPara começarmos nossa análise, me fale: o que te intriga ou te preocupa em relação a esses gastos? 🤔\\nPor exemplo:\\nVocê gostaria de identificar as áreas onde gasta mais?\\nQuer saber se está gastando muito com presentes?\\nDeseja ter uma visão geral de como suas despesas se dividem entre as categorias?\\nCom essas informações, posso te ajudar de forma mais precisa.\\nPara encerrar a conversa, digite fim\\n\")\n",
        "\n",
        "# Chat\n",
        "prompt = input('Fale com o Glusios: ')\n",
        "\n",
        "while prompt != \"fim\":\n",
        "  response = convo.send_message(prompt)\n",
        "  print(\"---\\n\\nGlusios: \", response.text, '\\n\\n---\\n\\n')\n",
        "  prompt = input('Fale com o Glusios: ')"
      ],
      "metadata": {
        "id": "cGO3ZOqZNAZN"
      },
      "execution_count": null,
      "outputs": []
    }
  ]
}